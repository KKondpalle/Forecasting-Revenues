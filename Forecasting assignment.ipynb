{
 "cells": [
  {
   "cell_type": "code",
   "execution_count": 1,
   "id": "5a034068",
   "metadata": {},
   "outputs": [],
   "source": [
    "import os"
   ]
  },
  {
   "cell_type": "code",
   "execution_count": 4,
   "id": "ac560033",
   "metadata": {},
   "outputs": [
    {
     "data": {
      "text/plain": [
       "'C:\\\\Users\\\\kaust\\\\OneDrive\\\\Desktop\\\\Supply Chain Analytics'"
      ]
     },
     "execution_count": 4,
     "metadata": {},
     "output_type": "execute_result"
    }
   ],
   "source": [
    "os.getcwd()"
   ]
  },
  {
   "cell_type": "code",
   "execution_count": 3,
   "id": "fc1169c4",
   "metadata": {},
   "outputs": [],
   "source": [
    "os.chdir(\"C:\\\\Users\\\\kaust\\\\OneDrive\\\\Desktop\\\\Supply Chain Analytics\")"
   ]
  },
  {
   "cell_type": "code",
   "execution_count": 87,
   "id": "d14d5482",
   "metadata": {},
   "outputs": [],
   "source": [
    "import pandas as pd\n",
    "import numpy as np\n",
    "import seaborn as sns\n",
    "import matplotlib.pyplot as plt"
   ]
  },
  {
   "cell_type": "code",
   "execution_count": 118,
   "id": "9fd39cba",
   "metadata": {},
   "outputs": [],
   "source": [
    "retail_clean = pd.read_csv('retail_clean.csv')"
   ]
  },
  {
   "cell_type": "code",
   "execution_count": 119,
   "id": "030d045d",
   "metadata": {},
   "outputs": [
    {
     "data": {
      "text/html": [
       "<div>\n",
       "<style scoped>\n",
       "    .dataframe tbody tr th:only-of-type {\n",
       "        vertical-align: middle;\n",
       "    }\n",
       "\n",
       "    .dataframe tbody tr th {\n",
       "        vertical-align: top;\n",
       "    }\n",
       "\n",
       "    .dataframe thead th {\n",
       "        text-align: right;\n",
       "    }\n",
       "</style>\n",
       "<table border=\"1\" class=\"dataframe\">\n",
       "  <thead>\n",
       "    <tr style=\"text-align: right;\">\n",
       "      <th></th>\n",
       "      <th>Unnamed: 0</th>\n",
       "      <th>Invoice</th>\n",
       "      <th>StockCode</th>\n",
       "      <th>Description</th>\n",
       "      <th>Quantity</th>\n",
       "      <th>InvoiceDate</th>\n",
       "      <th>Price</th>\n",
       "      <th>Customer ID</th>\n",
       "      <th>Country</th>\n",
       "      <th>Revenue</th>\n",
       "    </tr>\n",
       "  </thead>\n",
       "  <tbody>\n",
       "    <tr>\n",
       "      <th>0</th>\n",
       "      <td>0</td>\n",
       "      <td>489434</td>\n",
       "      <td>85048</td>\n",
       "      <td>15CM CHRISTMAS GLASS BALL 20 LIGHTS</td>\n",
       "      <td>12</td>\n",
       "      <td>01-12-2009 07:45</td>\n",
       "      <td>6.95</td>\n",
       "      <td>13085</td>\n",
       "      <td>United Kingdom</td>\n",
       "      <td>83.40</td>\n",
       "    </tr>\n",
       "    <tr>\n",
       "      <th>1</th>\n",
       "      <td>1</td>\n",
       "      <td>489434</td>\n",
       "      <td>79323P</td>\n",
       "      <td>PINK CHERRY LIGHTS</td>\n",
       "      <td>12</td>\n",
       "      <td>01-12-2009 07:45</td>\n",
       "      <td>6.75</td>\n",
       "      <td>13085</td>\n",
       "      <td>United Kingdom</td>\n",
       "      <td>81.00</td>\n",
       "    </tr>\n",
       "    <tr>\n",
       "      <th>2</th>\n",
       "      <td>2</td>\n",
       "      <td>489434</td>\n",
       "      <td>79323W</td>\n",
       "      <td>WHITE CHERRY LIGHTS</td>\n",
       "      <td>12</td>\n",
       "      <td>01-12-2009 07:45</td>\n",
       "      <td>6.75</td>\n",
       "      <td>13085</td>\n",
       "      <td>United Kingdom</td>\n",
       "      <td>81.00</td>\n",
       "    </tr>\n",
       "    <tr>\n",
       "      <th>3</th>\n",
       "      <td>3</td>\n",
       "      <td>489434</td>\n",
       "      <td>22041</td>\n",
       "      <td>RECORD FRAME 7\" SINGLE SIZE</td>\n",
       "      <td>48</td>\n",
       "      <td>01-12-2009 07:45</td>\n",
       "      <td>2.10</td>\n",
       "      <td>13085</td>\n",
       "      <td>United Kingdom</td>\n",
       "      <td>100.80</td>\n",
       "    </tr>\n",
       "    <tr>\n",
       "      <th>4</th>\n",
       "      <td>4</td>\n",
       "      <td>489434</td>\n",
       "      <td>21232</td>\n",
       "      <td>STRAWBERRY CERAMIC TRINKET BOX</td>\n",
       "      <td>24</td>\n",
       "      <td>01-12-2009 07:45</td>\n",
       "      <td>1.25</td>\n",
       "      <td>13085</td>\n",
       "      <td>United Kingdom</td>\n",
       "      <td>30.00</td>\n",
       "    </tr>\n",
       "    <tr>\n",
       "      <th>...</th>\n",
       "      <td>...</td>\n",
       "      <td>...</td>\n",
       "      <td>...</td>\n",
       "      <td>...</td>\n",
       "      <td>...</td>\n",
       "      <td>...</td>\n",
       "      <td>...</td>\n",
       "      <td>...</td>\n",
       "      <td>...</td>\n",
       "      <td>...</td>\n",
       "    </tr>\n",
       "    <tr>\n",
       "      <th>779490</th>\n",
       "      <td>1067366</td>\n",
       "      <td>581587</td>\n",
       "      <td>22899</td>\n",
       "      <td>CHILDREN'S APRON DOLLY GIRL</td>\n",
       "      <td>6</td>\n",
       "      <td>09-12-2011 12:50</td>\n",
       "      <td>2.10</td>\n",
       "      <td>12680</td>\n",
       "      <td>France</td>\n",
       "      <td>12.60</td>\n",
       "    </tr>\n",
       "    <tr>\n",
       "      <th>779491</th>\n",
       "      <td>1067367</td>\n",
       "      <td>581587</td>\n",
       "      <td>23254</td>\n",
       "      <td>CHILDRENS CUTLERY DOLLY GIRL</td>\n",
       "      <td>4</td>\n",
       "      <td>09-12-2011 12:50</td>\n",
       "      <td>4.15</td>\n",
       "      <td>12680</td>\n",
       "      <td>France</td>\n",
       "      <td>16.60</td>\n",
       "    </tr>\n",
       "    <tr>\n",
       "      <th>779492</th>\n",
       "      <td>1067368</td>\n",
       "      <td>581587</td>\n",
       "      <td>23255</td>\n",
       "      <td>CHILDRENS CUTLERY CIRCUS PARADE</td>\n",
       "      <td>4</td>\n",
       "      <td>09-12-2011 12:50</td>\n",
       "      <td>4.15</td>\n",
       "      <td>12680</td>\n",
       "      <td>France</td>\n",
       "      <td>16.60</td>\n",
       "    </tr>\n",
       "    <tr>\n",
       "      <th>779493</th>\n",
       "      <td>1067369</td>\n",
       "      <td>581587</td>\n",
       "      <td>22138</td>\n",
       "      <td>BAKING SET 9 PIECE RETROSPOT</td>\n",
       "      <td>3</td>\n",
       "      <td>09-12-2011 12:50</td>\n",
       "      <td>4.95</td>\n",
       "      <td>12680</td>\n",
       "      <td>France</td>\n",
       "      <td>14.85</td>\n",
       "    </tr>\n",
       "    <tr>\n",
       "      <th>779494</th>\n",
       "      <td>1067370</td>\n",
       "      <td>581587</td>\n",
       "      <td>POST</td>\n",
       "      <td>POSTAGE</td>\n",
       "      <td>1</td>\n",
       "      <td>09-12-2011 12:50</td>\n",
       "      <td>18.00</td>\n",
       "      <td>12680</td>\n",
       "      <td>France</td>\n",
       "      <td>18.00</td>\n",
       "    </tr>\n",
       "  </tbody>\n",
       "</table>\n",
       "<p>779495 rows × 10 columns</p>\n",
       "</div>"
      ],
      "text/plain": [
       "        Unnamed: 0  Invoice StockCode                          Description  \\\n",
       "0                0   489434     85048  15CM CHRISTMAS GLASS BALL 20 LIGHTS   \n",
       "1                1   489434    79323P                   PINK CHERRY LIGHTS   \n",
       "2                2   489434    79323W                  WHITE CHERRY LIGHTS   \n",
       "3                3   489434     22041         RECORD FRAME 7\" SINGLE SIZE    \n",
       "4                4   489434     21232       STRAWBERRY CERAMIC TRINKET BOX   \n",
       "...            ...      ...       ...                                  ...   \n",
       "779490     1067366   581587     22899         CHILDREN'S APRON DOLLY GIRL    \n",
       "779491     1067367   581587     23254        CHILDRENS CUTLERY DOLLY GIRL    \n",
       "779492     1067368   581587     23255      CHILDRENS CUTLERY CIRCUS PARADE   \n",
       "779493     1067369   581587     22138        BAKING SET 9 PIECE RETROSPOT    \n",
       "779494     1067370   581587      POST                              POSTAGE   \n",
       "\n",
       "        Quantity       InvoiceDate  Price  Customer ID         Country  \\\n",
       "0             12  01-12-2009 07:45   6.95        13085  United Kingdom   \n",
       "1             12  01-12-2009 07:45   6.75        13085  United Kingdom   \n",
       "2             12  01-12-2009 07:45   6.75        13085  United Kingdom   \n",
       "3             48  01-12-2009 07:45   2.10        13085  United Kingdom   \n",
       "4             24  01-12-2009 07:45   1.25        13085  United Kingdom   \n",
       "...          ...               ...    ...          ...             ...   \n",
       "779490         6  09-12-2011 12:50   2.10        12680          France   \n",
       "779491         4  09-12-2011 12:50   4.15        12680          France   \n",
       "779492         4  09-12-2011 12:50   4.15        12680          France   \n",
       "779493         3  09-12-2011 12:50   4.95        12680          France   \n",
       "779494         1  09-12-2011 12:50  18.00        12680          France   \n",
       "\n",
       "        Revenue  \n",
       "0         83.40  \n",
       "1         81.00  \n",
       "2         81.00  \n",
       "3        100.80  \n",
       "4         30.00  \n",
       "...         ...  \n",
       "779490    12.60  \n",
       "779491    16.60  \n",
       "779492    16.60  \n",
       "779493    14.85  \n",
       "779494    18.00  \n",
       "\n",
       "[779495 rows x 10 columns]"
      ]
     },
     "execution_count": 119,
     "metadata": {},
     "output_type": "execute_result"
    }
   ],
   "source": [
    "retail_clean"
   ]
  },
  {
   "cell_type": "code",
   "execution_count": 120,
   "id": "60cd9178",
   "metadata": {},
   "outputs": [
    {
     "name": "stdout",
     "output_type": "stream",
     "text": [
      "<class 'pandas.core.frame.DataFrame'>\n",
      "RangeIndex: 779495 entries, 0 to 779494\n",
      "Data columns (total 10 columns):\n",
      " #   Column       Non-Null Count   Dtype  \n",
      "---  ------       --------------   -----  \n",
      " 0   Unnamed: 0   779495 non-null  int64  \n",
      " 1   Invoice      779495 non-null  int64  \n",
      " 2   StockCode    779495 non-null  object \n",
      " 3   Description  779495 non-null  object \n",
      " 4   Quantity     779495 non-null  int64  \n",
      " 5   InvoiceDate  779495 non-null  object \n",
      " 6   Price        779495 non-null  float64\n",
      " 7   Customer ID  779495 non-null  int64  \n",
      " 8   Country      779495 non-null  object \n",
      " 9   Revenue      779495 non-null  float64\n",
      "dtypes: float64(2), int64(4), object(4)\n",
      "memory usage: 59.5+ MB\n"
     ]
    }
   ],
   "source": [
    "retail_clean.info()"
   ]
  },
  {
   "cell_type": "code",
   "execution_count": 121,
   "id": "ae6d9e84",
   "metadata": {},
   "outputs": [],
   "source": [
    "# For making date workable\n",
    "retail_clean.InvoiceDate\n",
    "retail_clean['InvoiceDate']= pd.to_datetime(retail_clean['InvoiceDate'])\n",
    "retail_clean['date']= retail_clean['InvoiceDate'].dt.strftime('%d-%m-%y')\n",
    "retail_clean['date'] = pd.to_datetime(retail_clean['date'])"
   ]
  },
  {
   "cell_type": "code",
   "execution_count": 122,
   "id": "ba671a8b",
   "metadata": {},
   "outputs": [
    {
     "name": "stderr",
     "output_type": "stream",
     "text": [
      "C:\\Users\\kaust\\AppData\\Local\\Temp\\ipykernel_23032\\4206364005.py:4: FutureWarning: Series.dt.weekofyear and Series.dt.week have been deprecated.  Please use Series.dt.isocalendar().week instead.\n",
      "  retail_clean['week'] = retail_clean.date.dt.week\n"
     ]
    }
   ],
   "source": [
    "## Creating month, year and week columns \n",
    "retail_clean['month'] = retail_clean.date.dt.month\n",
    "retail_clean['year'] = retail_clean.date.dt.year\n",
    "retail_clean['week'] = retail_clean.date.dt.week"
   ]
  },
  {
   "cell_type": "code",
   "execution_count": 123,
   "id": "4e96b55d",
   "metadata": {},
   "outputs": [
    {
     "data": {
      "text/plain": [
       "count    779495.000000\n",
       "mean          7.417110\n",
       "std           3.422346\n",
       "min           1.000000\n",
       "25%           5.000000\n",
       "50%           8.000000\n",
       "75%          11.000000\n",
       "max          12.000000\n",
       "Name: month, dtype: float64"
      ]
     },
     "execution_count": 123,
     "metadata": {},
     "output_type": "execute_result"
    }
   ],
   "source": [
    "## summary statistics for months\n",
    "retail_clean.columns\n",
    "retail_clean.month.describe()"
   ]
  },
  {
   "cell_type": "code",
   "execution_count": 124,
   "id": "0b8ba6eb",
   "metadata": {},
   "outputs": [],
   "source": [
    "ts = retail_clean.groupby(['week','month', 'year']).agg(date = ('date','first'),\n",
    "                                               total_revenue = ('Revenue', np.sum)).reset_index().sort_values('date')\n"
   ]
  },
  {
   "cell_type": "code",
   "execution_count": 125,
   "id": "d7cef0e8",
   "metadata": {},
   "outputs": [
    {
     "data": {
      "text/html": [
       "<div>\n",
       "<style scoped>\n",
       "    .dataframe tbody tr th:only-of-type {\n",
       "        vertical-align: middle;\n",
       "    }\n",
       "\n",
       "    .dataframe tbody tr th {\n",
       "        vertical-align: top;\n",
       "    }\n",
       "\n",
       "    .dataframe thead th {\n",
       "        text-align: right;\n",
       "    }\n",
       "</style>\n",
       "<table border=\"1\" class=\"dataframe\">\n",
       "  <thead>\n",
       "    <tr style=\"text-align: right;\">\n",
       "      <th></th>\n",
       "      <th>week</th>\n",
       "      <th>month</th>\n",
       "      <th>year</th>\n",
       "      <th>date</th>\n",
       "      <th>total_revenue</th>\n",
       "    </tr>\n",
       "  </thead>\n",
       "  <tbody>\n",
       "    <tr>\n",
       "      <th>113</th>\n",
       "      <td>49</td>\n",
       "      <td>12</td>\n",
       "      <td>2009</td>\n",
       "      <td>2009-12-01</td>\n",
       "      <td>232177.51</td>\n",
       "    </tr>\n",
       "    <tr>\n",
       "      <th>116</th>\n",
       "      <td>50</td>\n",
       "      <td>12</td>\n",
       "      <td>2009</td>\n",
       "      <td>2009-12-07</td>\n",
       "      <td>207908.73</td>\n",
       "    </tr>\n",
       "    <tr>\n",
       "      <th>118</th>\n",
       "      <td>51</td>\n",
       "      <td>12</td>\n",
       "      <td>2009</td>\n",
       "      <td>2009-12-14</td>\n",
       "      <td>207685.87</td>\n",
       "    </tr>\n",
       "    <tr>\n",
       "      <th>120</th>\n",
       "      <td>52</td>\n",
       "      <td>12</td>\n",
       "      <td>2009</td>\n",
       "      <td>2009-12-21</td>\n",
       "      <td>35731.90</td>\n",
       "    </tr>\n",
       "    <tr>\n",
       "      <th>0</th>\n",
       "      <td>1</td>\n",
       "      <td>1</td>\n",
       "      <td>2010</td>\n",
       "      <td>2010-01-04</td>\n",
       "      <td>167636.95</td>\n",
       "    </tr>\n",
       "    <tr>\n",
       "      <th>...</th>\n",
       "      <td>...</td>\n",
       "      <td>...</td>\n",
       "      <td>...</td>\n",
       "      <td>...</td>\n",
       "      <td>...</td>\n",
       "    </tr>\n",
       "    <tr>\n",
       "      <th>106</th>\n",
       "      <td>46</td>\n",
       "      <td>11</td>\n",
       "      <td>2011</td>\n",
       "      <td>2011-11-14</td>\n",
       "      <td>276216.98</td>\n",
       "    </tr>\n",
       "    <tr>\n",
       "      <th>108</th>\n",
       "      <td>47</td>\n",
       "      <td>11</td>\n",
       "      <td>2011</td>\n",
       "      <td>2011-11-21</td>\n",
       "      <td>248234.58</td>\n",
       "    </tr>\n",
       "    <tr>\n",
       "      <th>110</th>\n",
       "      <td>48</td>\n",
       "      <td>11</td>\n",
       "      <td>2011</td>\n",
       "      <td>2011-11-28</td>\n",
       "      <td>141669.57</td>\n",
       "    </tr>\n",
       "    <tr>\n",
       "      <th>112</th>\n",
       "      <td>48</td>\n",
       "      <td>12</td>\n",
       "      <td>2011</td>\n",
       "      <td>2011-12-01</td>\n",
       "      <td>109163.47</td>\n",
       "    </tr>\n",
       "    <tr>\n",
       "      <th>115</th>\n",
       "      <td>49</td>\n",
       "      <td>12</td>\n",
       "      <td>2011</td>\n",
       "      <td>2011-12-05</td>\n",
       "      <td>408044.97</td>\n",
       "    </tr>\n",
       "  </tbody>\n",
       "</table>\n",
       "<p>121 rows × 5 columns</p>\n",
       "</div>"
      ],
      "text/plain": [
       "     week  month  year       date  total_revenue\n",
       "113    49     12  2009 2009-12-01      232177.51\n",
       "116    50     12  2009 2009-12-07      207908.73\n",
       "118    51     12  2009 2009-12-14      207685.87\n",
       "120    52     12  2009 2009-12-21       35731.90\n",
       "0       1      1  2010 2010-01-04      167636.95\n",
       "..    ...    ...   ...        ...            ...\n",
       "106    46     11  2011 2011-11-14      276216.98\n",
       "108    47     11  2011 2011-11-21      248234.58\n",
       "110    48     11  2011 2011-11-28      141669.57\n",
       "112    48     12  2011 2011-12-01      109163.47\n",
       "115    49     12  2011 2011-12-05      408044.97\n",
       "\n",
       "[121 rows x 5 columns]"
      ]
     },
     "execution_count": 125,
     "metadata": {},
     "output_type": "execute_result"
    }
   ],
   "source": [
    "ts"
   ]
  },
  {
   "cell_type": "code",
   "execution_count": 126,
   "id": "6767f1a0",
   "metadata": {},
   "outputs": [],
   "source": [
    "ts.to_csv(\"forecasting_assignment.csv\")"
   ]
  },
  {
   "cell_type": "code",
   "execution_count": 127,
   "id": "aa6fe38c",
   "metadata": {},
   "outputs": [],
   "source": [
    "## Forecasting using timeseries\n",
    "## Preparing data\n",
    "from sklearn.linear_model import LinearRegression\n",
    "ts['trend'] = range(ts.shape[0])\n",
    "ts['month'] = ts['month'].astype('category')\n",
    "\n",
    "##dropping column\n",
    "X = ts.drop(['week','year','date','total_revenue'], axis=1)\n",
    "\n",
    "names = pd.get_dummies(X).columns\n",
    "X = pd.get_dummies(X).values\n",
    "y = ts.total_revenue.values"
   ]
  },
  {
   "cell_type": "code",
   "execution_count": 128,
   "id": "33d023a7",
   "metadata": {},
   "outputs": [
    {
     "data": {
      "text/plain": [
       "LinearRegression()"
      ]
     },
     "execution_count": 128,
     "metadata": {},
     "output_type": "execute_result"
    }
   ],
   "source": [
    "## Creating Linear Regression model\n",
    "\n",
    "model = LinearRegression()\n",
    "\n",
    "model.fit(X,y)\n",
    "\n"
   ]
  },
  {
   "cell_type": "code",
   "execution_count": 129,
   "id": "de19bb9f",
   "metadata": {},
   "outputs": [
    {
     "data": {
      "text/plain": [
       "{'copy_X': True, 'fit_intercept': True, 'n_jobs': None, 'normalize': False}"
      ]
     },
     "execution_count": 129,
     "metadata": {},
     "output_type": "execute_result"
    }
   ],
   "source": [
    "model.get_params()\n"
   ]
  },
  {
   "cell_type": "code",
   "execution_count": 130,
   "id": "5c6adce6",
   "metadata": {},
   "outputs": [
    {
     "data": {
      "text/plain": [
       "array([-7.50587618e+00, -1.85162279e+04, -3.77331573e+04, -1.42433897e+04,\n",
       "       -3.72762502e+04, -2.73256065e+04, -1.35913538e+04, -2.43256353e+04,\n",
       "       -2.98789922e+04,  3.48536846e+04,  4.50119036e+04,  8.92286442e+04,\n",
       "        3.37963804e+04])"
      ]
     },
     "execution_count": 130,
     "metadata": {},
     "output_type": "execute_result"
    }
   ],
   "source": [
    "model.coef_"
   ]
  },
  {
   "cell_type": "code",
   "execution_count": 131,
   "id": "cb35c1ea",
   "metadata": {},
   "outputs": [],
   "source": [
    "dict1= list(zip(names,model.coef_))\n",
    "\n",
    "\n",
    "prediction= model.predict(X)\n",
    "\n",
    "ts['prediction']= prediction\n",
    "\n",
    "\n"
   ]
  },
  {
   "cell_type": "code",
   "execution_count": 132,
   "id": "27eb6543",
   "metadata": {
    "scrolled": true
   },
   "outputs": [
    {
     "data": {
      "image/png": "[encoded data removed]",
      "text/plain": [
       "<Figure size 432x288 with 1 Axes>"
      ]
     },
     "metadata": {
      "needs_background": "light"
     },
     "output_type": "display_data"
    }
   ],
   "source": [
    "plt.plot(ts.date,ts.total_revenue,label='Actual')\n",
    "plt.plot(ts.date,ts.prediction,label='prediction')\n",
    "plt.legend(loc='upper left')\n",
    "plt.show()"
   ]
  },
  {
   "cell_type": "code",
   "execution_count": 133,
   "id": "5df1df63",
   "metadata": {},
   "outputs": [
    {
     "data": {
      "text/plain": [
       "Timestamp('2011-12-05 00:00:00')"
      ]
     },
     "execution_count": 133,
     "metadata": {},
     "output_type": "execute_result"
    }
   ],
   "source": [
    "max_date = ts.date.max()\n",
    "max_date"
   ]
  },
  {
   "cell_type": "code",
   "execution_count": 142,
   "id": "15d3c09e",
   "metadata": {},
   "outputs": [],
   "source": [
    "## Forecasting for 32 next weeks\n",
    "dates = pd.DataFrame({'date':pd.date_range('2011-02-05','2012-12-05', freq= 'W')})\n",
    "ts = pd.concat([ts,dates],axis=0)\n",
    "\n",
    "\n",
    "\n",
    "\n"
   ]
  },
  {
   "cell_type": "code",
   "execution_count": 143,
   "id": "86dd18fc",
   "metadata": {},
   "outputs": [],
   "source": [
    "ts['trend'] = range(ts.shape[0])\n",
    "ts['month'] = ts['date'].dt.month\n",
    "ts['month'] = ts['month'].astype('category')"
   ]
  },
  {
   "cell_type": "code",
   "execution_count": 144,
   "id": "92f76242",
   "metadata": {},
   "outputs": [
    {
     "data": {
      "text/html": [
       "<div>\n",
       "<style scoped>\n",
       "    .dataframe tbody tr th:only-of-type {\n",
       "        vertical-align: middle;\n",
       "    }\n",
       "\n",
       "    .dataframe tbody tr th {\n",
       "        vertical-align: top;\n",
       "    }\n",
       "\n",
       "    .dataframe thead th {\n",
       "        text-align: right;\n",
       "    }\n",
       "</style>\n",
       "<table border=\"1\" class=\"dataframe\">\n",
       "  <thead>\n",
       "    <tr style=\"text-align: right;\">\n",
       "      <th></th>\n",
       "      <th>week</th>\n",
       "      <th>month</th>\n",
       "      <th>year</th>\n",
       "      <th>date</th>\n",
       "      <th>total_revenue</th>\n",
       "      <th>trend</th>\n",
       "      <th>prediction</th>\n",
       "    </tr>\n",
       "  </thead>\n",
       "  <tbody>\n",
       "    <tr>\n",
       "      <th>113</th>\n",
       "      <td>49.0</td>\n",
       "      <td>12</td>\n",
       "      <td>2009.0</td>\n",
       "      <td>2009-12-01</td>\n",
       "      <td>232177.51</td>\n",
       "      <td>0</td>\n",
       "      <td>177476.051819</td>\n",
       "    </tr>\n",
       "    <tr>\n",
       "      <th>116</th>\n",
       "      <td>50.0</td>\n",
       "      <td>12</td>\n",
       "      <td>2009.0</td>\n",
       "      <td>2009-12-07</td>\n",
       "      <td>207908.73</td>\n",
       "      <td>1</td>\n",
       "      <td>177468.545943</td>\n",
       "    </tr>\n",
       "    <tr>\n",
       "      <th>118</th>\n",
       "      <td>51.0</td>\n",
       "      <td>12</td>\n",
       "      <td>2009.0</td>\n",
       "      <td>2009-12-14</td>\n",
       "      <td>207685.87</td>\n",
       "      <td>2</td>\n",
       "      <td>177461.040067</td>\n",
       "    </tr>\n",
       "    <tr>\n",
       "      <th>120</th>\n",
       "      <td>52.0</td>\n",
       "      <td>12</td>\n",
       "      <td>2009.0</td>\n",
       "      <td>2009-12-21</td>\n",
       "      <td>35731.90</td>\n",
       "      <td>3</td>\n",
       "      <td>177453.534191</td>\n",
       "    </tr>\n",
       "    <tr>\n",
       "      <th>0</th>\n",
       "      <td>1.0</td>\n",
       "      <td>1</td>\n",
       "      <td>2010.0</td>\n",
       "      <td>2010-01-04</td>\n",
       "      <td>167636.95</td>\n",
       "      <td>4</td>\n",
       "      <td>125133.420012</td>\n",
       "    </tr>\n",
       "    <tr>\n",
       "      <th>...</th>\n",
       "      <td>...</td>\n",
       "      <td>...</td>\n",
       "      <td>...</td>\n",
       "      <td>...</td>\n",
       "      <td>...</td>\n",
       "      <td>...</td>\n",
       "      <td>...</td>\n",
       "    </tr>\n",
       "    <tr>\n",
       "      <th>91</th>\n",
       "      <td>NaN</td>\n",
       "      <td>11</td>\n",
       "      <td>NaN</td>\n",
       "      <td>2012-11-04</td>\n",
       "      <td>NaN</td>\n",
       "      <td>272</td>\n",
       "      <td>NaN</td>\n",
       "    </tr>\n",
       "    <tr>\n",
       "      <th>92</th>\n",
       "      <td>NaN</td>\n",
       "      <td>11</td>\n",
       "      <td>NaN</td>\n",
       "      <td>2012-11-11</td>\n",
       "      <td>NaN</td>\n",
       "      <td>273</td>\n",
       "      <td>NaN</td>\n",
       "    </tr>\n",
       "    <tr>\n",
       "      <th>93</th>\n",
       "      <td>NaN</td>\n",
       "      <td>11</td>\n",
       "      <td>NaN</td>\n",
       "      <td>2012-11-18</td>\n",
       "      <td>NaN</td>\n",
       "      <td>274</td>\n",
       "      <td>NaN</td>\n",
       "    </tr>\n",
       "    <tr>\n",
       "      <th>94</th>\n",
       "      <td>NaN</td>\n",
       "      <td>11</td>\n",
       "      <td>NaN</td>\n",
       "      <td>2012-11-25</td>\n",
       "      <td>NaN</td>\n",
       "      <td>275</td>\n",
       "      <td>NaN</td>\n",
       "    </tr>\n",
       "    <tr>\n",
       "      <th>95</th>\n",
       "      <td>NaN</td>\n",
       "      <td>12</td>\n",
       "      <td>NaN</td>\n",
       "      <td>2012-12-02</td>\n",
       "      <td>NaN</td>\n",
       "      <td>276</td>\n",
       "      <td>NaN</td>\n",
       "    </tr>\n",
       "  </tbody>\n",
       "</table>\n",
       "<p>277 rows × 7 columns</p>\n",
       "</div>"
      ],
      "text/plain": [
       "     week month    year       date  total_revenue  trend     prediction\n",
       "113  49.0    12  2009.0 2009-12-01      232177.51      0  177476.051819\n",
       "116  50.0    12  2009.0 2009-12-07      207908.73      1  177468.545943\n",
       "118  51.0    12  2009.0 2009-12-14      207685.87      2  177461.040067\n",
       "120  52.0    12  2009.0 2009-12-21       35731.90      3  177453.534191\n",
       "0     1.0     1  2010.0 2010-01-04      167636.95      4  125133.420012\n",
       "..    ...   ...     ...        ...            ...    ...            ...\n",
       "91    NaN    11     NaN 2012-11-04            NaN    272            NaN\n",
       "92    NaN    11     NaN 2012-11-11            NaN    273            NaN\n",
       "93    NaN    11     NaN 2012-11-18            NaN    274            NaN\n",
       "94    NaN    11     NaN 2012-11-25            NaN    275            NaN\n",
       "95    NaN    12     NaN 2012-12-02            NaN    276            NaN\n",
       "\n",
       "[277 rows x 7 columns]"
      ]
     },
     "execution_count": 144,
     "metadata": {},
     "output_type": "execute_result"
    }
   ],
   "source": [
    "ts"
   ]
  },
  {
   "cell_type": "code",
   "execution_count": 151,
   "id": "f8e2ce3d",
   "metadata": {},
   "outputs": [],
   "source": [
    "## dropping column\n",
    "X = ts.drop(['week','year','date','total_revenue','prediction'], axis=1)\n",
    "\n",
    "names = pd.get_dummies(X).columns\n",
    "X = pd.get_dummies(X).values\n",
    "y = ts.total_revenue.values"
   ]
  },
  {
   "cell_type": "code",
   "execution_count": 152,
   "id": "97a72c3b",
   "metadata": {},
   "outputs": [],
   "source": [
    "prediction = model.predict(X)"
   ]
  },
  {
   "cell_type": "code",
   "execution_count": 153,
   "id": "a73cc38f",
   "metadata": {},
   "outputs": [],
   "source": [
    "ts['prediction'] = prediction"
   ]
  },
  {
   "cell_type": "code",
   "execution_count": 154,
   "id": "9cf7fbeb",
   "metadata": {},
   "outputs": [
    {
     "data": {
      "image/png": "[encoded data removed]",
      "text/plain": [
       "<Figure size 432x288 with 1 Axes>"
      ]
     },
     "metadata": {
      "needs_background": "light"
     },
     "output_type": "display_data"
    }
   ],
   "source": [
    "## Visualizing the result\n",
    "plt.plot(ts.date,ts.total_revenue,label='Actual')\n",
    "plt.plot(ts.date,ts.prediction,label='prediction')\n",
    "plt.legend(loc='upper left')\n",
    "plt.show()"
   ]
  },
  {
   "cell_type": "code",
   "execution_count": null,
   "id": "92533af6",
   "metadata": {},
   "outputs": [],
   "source": []
  },
  {
   "cell_type": "code",
   "execution_count": null,
   "id": "e8f13a18",
   "metadata": {},
   "outputs": [],
   "source": []
  },
  {
   "cell_type": "code",
   "execution_count": null,
   "id": "fbb64b79",
   "metadata": {},
   "outputs": [],
   "source": []
  }
 ],
 "metadata": {
  "kernelspec": {
   "display_name": "Python 3 (ipykernel)",
   "language": "python",
   "name": "python3"
  },
  "language_info": {
   "codemirror_mode": {
    "name": "ipython",
    "version": 3
   },
   "file_extension": ".py",
   "mimetype": "text/x-python",
   "name": "python",
   "nbconvert_exporter": "python",
   "pygments_lexer": "ipython3",
   "version": "3.8.5"
  }
 },
 "nbformat": 4,
 "nbformat_minor": 5
}
